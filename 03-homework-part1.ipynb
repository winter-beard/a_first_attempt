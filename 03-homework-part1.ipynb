{
 "cells": [
  {
   "attachments": {},
   "cell_type": "markdown",
   "id": "2ea5e693",
   "metadata": {},
   "source": [
    "**Julie Iles**\n",
    "*June 12 2023*\n",
    "## Homework 3 Part 1 ##\n"
   ]
  },
  {
   "cell_type": "code",
   "execution_count": 176,
   "id": "6a3b5be6",
   "metadata": {
    "scrolled": true
   },
   "outputs": [],
   "source": [
    "#URL to documentation: https://pokeapi.co/docs/v2\n",
    "\n",
    "import requests\n",
    "import json\n",
    "\n",
    "#URL to pokemon 55\n",
    "url = \"https://pokeapi.co/api/v2/pokemon/55\"\n",
    "response = requests.get(url)\n",
    "#print(response)"
   ]
  },
  {
   "cell_type": "code",
   "execution_count": 174,
   "id": "65b49ba3",
   "metadata": {},
   "outputs": [],
   "source": [
    "data = response.json()\n",
    "#print(data.keys())\n"
   ]
  },
  {
   "cell_type": "code",
   "execution_count": 80,
   "id": "05964363",
   "metadata": {},
   "outputs": [
    {
     "name": "stdout",
     "output_type": "stream",
     "text": [
      "golduck\n"
     ]
    }
   ],
   "source": [
    "#What pokeomon is it?\n",
    "print(data['name'])"
   ]
  },
  {
   "cell_type": "code",
   "execution_count": 81,
   "id": "fc282eb2",
   "metadata": {},
   "outputs": [
    {
     "name": "stdout",
     "output_type": "stream",
     "text": [
      "17\n"
     ]
    }
   ],
   "source": [
    "#Height = 1.7m\n",
    "print(data['height'])"
   ]
  },
  {
   "cell_type": "code",
   "execution_count": 175,
   "id": "8f216be9",
   "metadata": {},
   "outputs": [],
   "source": [
    "#How many versions of Pokemon games have been released?\n",
    "#43\n",
    "url2 = 'https://pokeapi.co/api/v2/version/'\n",
    "response2 = requests.get(url2)\n",
    "#print(response2)"
   ]
  },
  {
   "cell_type": "code",
   "execution_count": 177,
   "id": "7a61ab59",
   "metadata": {},
   "outputs": [
    {
     "name": "stdout",
     "output_type": "stream",
     "text": [
      "43\n"
     ]
    }
   ],
   "source": [
    "data2 = response2.json()\n",
    "#print(data2.keys())\n",
    "\n",
    "print(data2['count']) #43\n"
   ]
  },
  {
   "cell_type": "code",
   "execution_count": 179,
   "id": "be228a7c",
   "metadata": {},
   "outputs": [],
   "source": [
    "url3 = 'https://pokeapi.co/api/v2/type/electric'\n",
    "response3= requests.get(url3)\n",
    "\n",
    "\n"
   ]
  },
  {
   "cell_type": "code",
   "execution_count": 180,
   "id": "44895f53",
   "metadata": {},
   "outputs": [],
   "source": [
    "data3 = response3.json()\n",
    "#print(data3.keys())\n"
   ]
  },
  {
   "cell_type": "code",
   "execution_count": 184,
   "id": "eb6708a5",
   "metadata": {},
   "outputs": [
    {
     "name": "stdout",
     "output_type": "stream",
     "text": [
      "pikachu\n",
      "raichu\n",
      "magnemite\n",
      "magneton\n",
      "voltorb\n",
      "electrode\n",
      "electabuzz\n",
      "jolteon\n",
      "zapdos\n",
      "chinchou\n",
      "lanturn\n",
      "pichu\n",
      "mareep\n",
      "flaaffy\n",
      "ampharos\n",
      "elekid\n",
      "raikou\n",
      "electrike\n",
      "manectric\n",
      "plusle\n",
      "minun\n",
      "shinx\n",
      "luxio\n",
      "luxray\n",
      "pachirisu\n",
      "magnezone\n",
      "electivire\n",
      "rotom\n",
      "blitzle\n",
      "zebstrika\n",
      "emolga\n",
      "joltik\n",
      "galvantula\n",
      "tynamo\n",
      "eelektrik\n",
      "eelektross\n",
      "stunfisk\n",
      "thundurus-incarnate\n",
      "zekrom\n",
      "helioptile\n",
      "heliolisk\n",
      "dedenne\n",
      "charjabug\n",
      "vikavolt\n",
      "togedemaru\n",
      "tapu-koko\n",
      "xurkitree\n",
      "zeraora\n",
      "yamper\n",
      "boltund\n",
      "toxel\n",
      "toxtricity-amped\n",
      "pincurchin\n",
      "morpeko-full-belly\n",
      "dracozolt\n",
      "arctozolt\n",
      "regieleki\n",
      "pawmi\n",
      "pawmo\n",
      "pawmot\n",
      "tadbulb\n",
      "bellibolt\n",
      "wattrel\n",
      "kilowattrel\n",
      "sandy-shocks\n",
      "iron-hands\n",
      "iron-thorns\n",
      "miraidon\n",
      "rotom-heat\n",
      "rotom-wash\n",
      "rotom-frost\n",
      "rotom-fan\n",
      "rotom-mow\n",
      "thundurus-therian\n",
      "ampharos-mega\n",
      "manectric-mega\n",
      "pikachu-rock-star\n",
      "pikachu-belle\n",
      "pikachu-pop-star\n",
      "pikachu-phd\n",
      "pikachu-libre\n",
      "pikachu-cosplay\n",
      "pikachu-original-cap\n",
      "pikachu-hoenn-cap\n",
      "pikachu-sinnoh-cap\n",
      "pikachu-unova-cap\n",
      "pikachu-kalos-cap\n",
      "pikachu-alola-cap\n",
      "raichu-alola\n",
      "geodude-alola\n",
      "graveler-alola\n",
      "golem-alola\n",
      "vikavolt-totem\n",
      "oricorio-pom-pom\n",
      "pikachu-partner-cap\n",
      "togedemaru-totem\n",
      "pikachu-starter\n",
      "pikachu-world-cap\n",
      "toxtricity-low-key\n",
      "morpeko-hangry\n",
      "pikachu-gmax\n",
      "toxtricity-amped-gmax\n",
      "toxtricity-low-key-gmax\n",
      "voltorb-hisui\n",
      "electrode-hisui\n",
      "miraidon-low-power-mode\n",
      "miraidon-drive-mode\n",
      "miraidon-aquatic-mode\n",
      "miraidon-glide-mode\n"
     ]
    }
   ],
   "source": [
    "count = 0\n",
    "for pokemon in data3['pokemon']:\n",
    "    print(pokemon['pokemon']['name'])\n",
    "    count = count+1   "
   ]
  },
  {
   "cell_type": "code",
   "execution_count": 2,
   "id": "682ad205",
   "metadata": {},
   "outputs": [
    {
     "ename": "NameError",
     "evalue": "name 'data3' is not defined",
     "output_type": "error",
     "traceback": [
      "\u001b[0;31m---------------------------------------------------------------------------\u001b[0m",
      "\u001b[0;31mNameError\u001b[0m                                 Traceback (most recent call last)",
      "Cell \u001b[0;32mIn[2], line 2\u001b[0m\n\u001b[1;32m      1\u001b[0m \u001b[38;5;66;03m#What are electric pokemon called in Korea? '전기'\u001b[39;00m\n\u001b[0;32m----> 2\u001b[0m \u001b[38;5;28;01mfor\u001b[39;00m pokemon \u001b[38;5;129;01min\u001b[39;00m \u001b[43mdata3\u001b[49m[\u001b[38;5;124m'\u001b[39m\u001b[38;5;124mnames\u001b[39m\u001b[38;5;124m'\u001b[39m]:\n\u001b[1;32m      3\u001b[0m     \u001b[38;5;28;01mif\u001b[39;00m pokemon[\u001b[38;5;124m'\u001b[39m\u001b[38;5;124mlanguage\u001b[39m\u001b[38;5;124m'\u001b[39m][\u001b[38;5;124m'\u001b[39m\u001b[38;5;124mname\u001b[39m\u001b[38;5;124m'\u001b[39m] \u001b[38;5;241m==\u001b[39m \u001b[38;5;124m'\u001b[39m\u001b[38;5;124mko\u001b[39m\u001b[38;5;124m'\u001b[39m:\n\u001b[1;32m      4\u001b[0m         \u001b[38;5;28mprint\u001b[39m(pokemon[\u001b[38;5;124m'\u001b[39m\u001b[38;5;124mname\u001b[39m\u001b[38;5;124m'\u001b[39m])\n",
      "\u001b[0;31mNameError\u001b[0m: name 'data3' is not defined"
     ]
    }
   ],
   "source": [
    "#What are electric pokemon called in Korea? '전기'\n",
    "for pokemon in data3['names']:\n",
    "    if pokemon['language']['name'] == 'ko':\n",
    "        print(pokemon['name'])\n",
    "               \n",
    "    \n",
    "    "
   ]
  },
  {
   "cell_type": "code",
   "execution_count": 183,
   "id": "3c5d3e0f",
   "metadata": {},
   "outputs": [],
   "source": [
    "#Who has higher speed stat Eevee or Pikachu?\n",
    "#Answer = Pikachu(90) vs Evee(55)\n",
    "url_eevee = 'https://pokeapi.co/api/v2/pokemon/eevee'\n",
    "response_eevee= requests.get(url_eevee)\n",
    "#print(response_eevee)\n",
    "\n",
    "data_eevee = response_eevee.json()\n",
    "\n",
    "#print(json.dumps(data_eevee, indent=1))\n",
    "\n",
    "url_pikachu = 'https://pokeapi.co/api/v2/pokemon/pikachu'\n",
    "response_pikachu = requests.get(url_pikachu)\n",
    "#print(response_pikachu)\n",
    "\n",
    "data_pikachu = response_pikachu.json()\n",
    "#print(json.dumps(data_pikachu, indent=1))\n",
    "\n",
    "\n"
   ]
  },
  {
   "cell_type": "code",
   "execution_count": 173,
   "id": "5c434817",
   "metadata": {},
   "outputs": [
    {
     "name": "stdout",
     "output_type": "stream",
     "text": [
      "55\n",
      "90\n",
      "Pikachu has the higher speed stat\n"
     ]
    }
   ],
   "source": [
    "for speed in data_eevee['stats']:\n",
    "    if (speed['stat']['name'])=='speed':\n",
    "        print(speed['base_stat'])\n",
    "        \n",
    "for more_speed in data_pikachu['stats']:\n",
    "    if (more_speed['stat']['name'])=='speed':\n",
    "        print((more_speed['base_stat']))\n",
    "        \n",
    "if more_speed['base_stat']< speed['base_stat']:\n",
    "    print(\"Eevee has a higher speed stat\")\n",
    "else:\n",
    "    print(\"Pikachu has the higher speed stat\")\n",
    "        \n",
    "        "
   ]
  },
  {
   "cell_type": "code",
   "execution_count": null,
   "id": "b641a409",
   "metadata": {},
   "outputs": [],
   "source": []
  }
 ],
 "metadata": {
  "kernelspec": {
   "display_name": "Python 3 (ipykernel)",
   "language": "python",
   "name": "python3"
  },
  "language_info": {
   "codemirror_mode": {
    "name": "ipython",
    "version": 3
   },
   "file_extension": ".py",
   "mimetype": "text/x-python",
   "name": "python",
   "nbconvert_exporter": "python",
   "pygments_lexer": "ipython3",
   "version": "3.10.3"
  }
 },
 "nbformat": 4,
 "nbformat_minor": 5
}
